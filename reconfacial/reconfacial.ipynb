{
 "cells": [
  {
   "cell_type": "code",
   "execution_count": 1,
   "metadata": {},
   "outputs": [
    {
     "name": "stdout",
     "output_type": "stream",
     "text": [
      "Requirement already satisfied: cmake in /Users/carlosroberto/anaconda3/envs/env-notebook/lib/python3.11/site-packages (3.26.4)\n",
      "Requirement already satisfied: dlib in /Users/carlosroberto/anaconda3/envs/env-notebook/lib/python3.11/site-packages (19.24.2)\n",
      "Requirement already satisfied: face_recognition in /Users/carlosroberto/anaconda3/envs/env-notebook/lib/python3.11/site-packages (1.3.0)\n",
      "Requirement already satisfied: face-recognition-models>=0.3.0 in /Users/carlosroberto/anaconda3/envs/env-notebook/lib/python3.11/site-packages (from face_recognition) (0.3.0)\n",
      "Requirement already satisfied: Click>=6.0 in /Users/carlosroberto/anaconda3/envs/env-notebook/lib/python3.11/site-packages (from face_recognition) (8.0.4)\n",
      "Requirement already satisfied: dlib>=19.7 in /Users/carlosroberto/anaconda3/envs/env-notebook/lib/python3.11/site-packages (from face_recognition) (19.24.2)\n",
      "Requirement already satisfied: numpy in /Users/carlosroberto/anaconda3/envs/env-notebook/lib/python3.11/site-packages (from face_recognition) (1.23.5)\n",
      "Requirement already satisfied: Pillow in /Users/carlosroberto/anaconda3/envs/env-notebook/lib/python3.11/site-packages (from face_recognition) (9.4.0)\n",
      "Requirement already satisfied: opencv-python in /Users/carlosroberto/anaconda3/envs/env-notebook/lib/python3.11/site-packages (4.8.0.74)\n",
      "Requirement already satisfied: numpy>=1.21.2 in /Users/carlosroberto/anaconda3/envs/env-notebook/lib/python3.11/site-packages (from opencv-python) (1.23.5)\n",
      "Requirement already satisfied: numpy in /Users/carlosroberto/anaconda3/envs/env-notebook/lib/python3.11/site-packages (1.23.5)\n",
      "Collecting numpy\n",
      "  Downloading numpy-1.25.1-cp311-cp311-macosx_11_0_arm64.whl (14.0 MB)\n",
      "\u001b[2K     \u001b[90m━━━━━━━━━━━━━━━━━━━━━━━━━━━━━━━━━━━━━━━━\u001b[0m \u001b[32m14.0/14.0 MB\u001b[0m \u001b[31m80.3 MB/s\u001b[0m eta \u001b[36m0:00:00\u001b[0ma \u001b[36m0:00:01\u001b[0m\n",
      "\u001b[?25hInstalling collected packages: numpy\n",
      "  Attempting uninstall: numpy\n",
      "    Found existing installation: numpy 1.23.5\n",
      "    Uninstalling numpy-1.23.5:\n",
      "      Successfully uninstalled numpy-1.23.5\n",
      "\u001b[31mERROR: pip's dependency resolver does not currently take into account all the packages that are installed. This behaviour is the source of the following dependency conflicts.\n",
      "tensorflow-macos 2.13.0 requires numpy<=1.24.3,>=1.22, but you have numpy 1.25.1 which is incompatible.\n",
      "ydata-profiling 4.3.1 requires numpy<1.24,>=1.16.0, but you have numpy 1.25.1 which is incompatible.\u001b[0m\u001b[31m\n",
      "\u001b[0mSuccessfully installed numpy-1.25.0\n"
     ]
    }
   ],
   "source": [
    "! pip install -U cmake \n",
    "! pip install -U  dlib \n",
    "! pip install -U  face_recognition\n",
    "! pip install -U  opencv-python\n",
    "! pip install -U  numpy\n"
   ]
  },
  {
   "cell_type": "code",
   "execution_count": 2,
   "metadata": {},
   "outputs": [],
   "source": [
    "import cv2\n",
    "import face_recognition as fr\n",
    "\n",
    "# path = r\"/Users/carlosroberto/Documentos/Projetos/imagens/\"\n",
    "path = \"./imagens/\"\n",
    "# print(path)"
   ]
  },
  {
   "cell_type": "code",
   "execution_count": 3,
   "metadata": {},
   "outputs": [],
   "source": [
    "imgElon = fr.load_image_file(path + \"Elon.jpg\")\n",
    "imgElon = cv2.cvtColor(imgElon, cv2.COLOR_BGR2RGB)"
   ]
  },
  {
   "cell_type": "code",
   "execution_count": 4,
   "metadata": {},
   "outputs": [],
   "source": [
    "imgElonTest = fr.load_image_file(path + \"ElonTest.jpg\")\n",
    "imgElonTest = cv2.cvtColor(imgElonTest, cv2.COLOR_BGR2RGB)"
   ]
  },
  {
   "cell_type": "code",
   "execution_count": 5,
   "metadata": {},
   "outputs": [],
   "source": [
    "faceLoc = fr.face_locations(imgElon)[0]\n",
    "cv2.rectangle(\n",
    "    imgElon, (faceLoc[3], faceLoc[0]), (faceLoc[1], faceLoc[2]), (0, 255, 0), 2\n",
    ")\n",
    "\n",
    "encodeElon = fr.face_encodings(imgElon)[0]\n",
    "encodeElonTest = fr.face_encodings(imgElonTest)[0]\n",
    "\n",
    "comparacao = fr.compare_faces([encodeElon], encodeElonTest)\n",
    "distancia = fr.face_distance([encodeElon], encodeElonTest)"
   ]
  },
  {
   "cell_type": "code",
   "execution_count": 6,
   "metadata": {},
   "outputs": [
    {
     "name": "stdout",
     "output_type": "stream",
     "text": [
      "[True] [0.39442581]\n"
     ]
    }
   ],
   "source": [
    "print(comparacao, distancia)\n",
    "cv2.imshow(\"Elon\", imgElon)\n",
    "cv2.imshow(\"Elon Test\", imgElonTest)\n",
    "cv2.waitKey(0)"
   ]
  }
 ],
 "metadata": {
  "kernelspec": {
   "display_name": "env-notebook",
   "language": "python",
   "name": "python3"
  },
  "language_info": {
   "codemirror_mode": {
    "name": "ipython",
    "version": 3
   },
   "file_extension": ".py",
   "mimetype": "text/x-python",
   "name": "python",
   "nbconvert_exporter": "python",
   "pygments_lexer": "ipython3",
   "version": "3.11.4"
  },
  "orig_nbformat": 4
 },
 "nbformat": 4,
 "nbformat_minor": 2
}
